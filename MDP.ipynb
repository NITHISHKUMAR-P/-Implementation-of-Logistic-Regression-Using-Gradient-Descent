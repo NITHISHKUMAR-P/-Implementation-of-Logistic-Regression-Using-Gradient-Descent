{
  "nbformat": 4,
  "nbformat_minor": 0,
  "metadata": {
    "colab": {
      "provenance": [],
      "authorship_tag": "ABX9TyPfi7SWy/CI4gIS7hVFxTeF",
      "include_colab_link": true
    },
    "kernelspec": {
      "name": "python3",
      "display_name": "Python 3"
    },
    "language_info": {
      "name": "python"
    }
  },
  "cells": [
    {
      "cell_type": "markdown",
      "metadata": {
        "id": "view-in-github",
        "colab_type": "text"
      },
      "source": [
        "<a href=\"https://colab.research.google.com/github/NITHISHKUMAR-P/-Implementation-of-Logistic-Regression-Using-Gradient-Descent/blob/main/MDP.ipynb\" target=\"_parent\"><img src=\"https://colab.research.google.com/assets/colab-badge.svg\" alt=\"Open In Colab\"/></a>"
      ]
    },
    {
      "cell_type": "markdown",
      "source": [
        "# **MDP Representation**"
      ],
      "metadata": {
        "id": "icDyu5gZnD4C"
      }
    },
    {
      "cell_type": "markdown",
      "source": [
        "## Problem Statement :"
      ],
      "metadata": {
        "id": "JcgDoXT5ngTO"
      }
    },
    {
      "cell_type": "markdown",
      "source": [
        "Plants are important due to its various beneficial factors. So it is necessary to take care of them. With reinforcement learning we can train a agent to ensure the growth of a saplings."
      ],
      "metadata": {
        "id": "hJJ-yi7Qnnh2"
      }
    },
    {
      "cell_type": "code",
      "source": [
        "P={0: {0: [(1.0, 0, 0.0, True)],\n",
        "       1: [(1.0, 0, 0.0, True)]},\n",
        "   1: {0: [(1.0, 0, 0.0, True)],\n",
        "       1: [(1.0, 2, 1.0, True)]},\n",
        "   2: {0: [(1.0, 2, 0.0, True)],\n",
        "       1: [(1.0, 2, 0.0, True)]}\n",
        "  }"
      ],
      "metadata": {
        "id": "pkbd3TXGnr4R"
      },
      "execution_count": 1,
      "outputs": []
    },
    {
      "cell_type": "code",
      "source": [
        "P"
      ],
      "metadata": {
        "colab": {
          "base_uri": "https://localhost:8080/"
        },
        "id": "CdrVd6a-nwlt",
        "outputId": "af3e853b-69b6-47c7-8210-8572840908b7"
      },
      "execution_count": 2,
      "outputs": [
        {
          "output_type": "execute_result",
          "data": {
            "text/plain": [
              "{0: {0: [(1.0, 0, 0.0, True)], 1: [(1.0, 0, 0.0, True)]},\n",
              " 1: {0: [(1.0, 0, 0.0, True)], 1: [(1.0, 2, 1.0, True)]},\n",
              " 2: {0: [(1.0, 2, 0.0, True)], 1: [(1.0, 2, 0.0, True)]}}"
            ]
          },
          "metadata": {},
          "execution_count": 2
        }
      ]
    },
    {
      "cell_type": "code",
      "source": [],
      "metadata": {
        "id": "QikW2spqnzju"
      },
      "execution_count": null,
      "outputs": []
    }
  ]
}